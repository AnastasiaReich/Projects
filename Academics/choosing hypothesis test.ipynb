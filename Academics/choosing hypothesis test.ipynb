{
 "cells": [
  {
   "cell_type": "markdown",
   "id": "262b6174",
   "metadata": {},
   "source": [
    "# 🧪Simulation-Based Hypothesis Testing\n",
    "\n",
    "This notebook is a **deeper dive** into p-values using simulation.\n",
    "\n",
    "Check the introduction notebook ***p_value_simulation_tutorial*** , where p-values were introduced intuitively. Here, I:\n",
    "\n",
    "- Run simulations under different alternative distributions\n",
    "- Test **left-sided** and **right-sided** hypotheses\n",
    "- Explore how **changing the mean or variance** affects p-value behavior\n",
    "- Test when assumptions (e.g., normality) are wrong\n",
    "\n",
    "This is how you go from *knowing* what a p-value is, to actually *understanding* what it does."
   ]
  },
  {
   "cell_type": "markdown",
   "id": "53a70bed",
   "metadata": {},
   "source": [
    "🎓 Statistical Testing with P-values.\n",
    "\n",
    "In hypothesis testing, we ask:\n",
    "Is the observed data consistent with what we’d expect under a specific model?\n",
    "To do that, we rely on test statistics, assumptions, and the concept of a p-value.\n",
    "\n",
    "📚 Key Definitions\n",
    "μ (mu): The true population mean under the null hypothesis (H₀).\n",
    "\n",
    "σ (sigma): The known standard deviation of the population.\n",
    "\n",
    "x̄ (x-bar): The sample mean, i.e., what you actually observed in your experiment.\n",
    "\n",
    "n: The sample size.\n",
    "\n",
    "z-statistic: A standardized score. Used when σ is known and the sample is large or the population is normal."
   ]
  },
  {
   "cell_type": "code",
   "execution_count": 1,
   "id": "68c514e0",
   "metadata": {},
   "outputs": [
    {
     "name": "stderr",
     "output_type": "stream",
     "text": [
      "<frozen importlib._bootstrap>:228: RuntimeWarning: scipy._lib.messagestream.MessageStream size changed, may indicate binary incompatibility. Expected 56 from C header, got 64 from PyObject\n"
     ]
    }
   ],
   "source": [
    "import numpy as np\n",
    "import seaborn as sns\n",
    "import matplotlib.pyplot as plt\n",
    "from scipy import stats\n",
    "\n",
    "rng = np.random.default_rng(seed=313)"
   ]
  },
  {
   "cell_type": "markdown",
   "id": "c811bebe",
   "metadata": {},
   "source": [
    "## 🛠 P-value Functions"
   ]
  },
  {
   "cell_type": "code",
   "execution_count": 2,
   "id": "a9bab08e",
   "metadata": {},
   "outputs": [],
   "source": [
    "def pval(x, mu, sigma):\n",
    "    n = len(x)\n",
    "    x_bar = np.mean(x)\n",
    "    z = np.sqrt(n) * (x_bar - mu)/sigma\n",
    "    return 1 - stats.halfnorm.cdf(np.abs(z))\n",
    "\n",
    "def pval_left(x, mu, sigma):\n",
    "    n = len(x)\n",
    "    x_bar = np.mean(x)\n",
    "    z = np.sqrt(n) * (x_bar - mu)/sigma\n",
    "    return 1 - stats.norm.cdf(z)\n",
    "\n",
    "def pval_right(x, mu, sigma):\n",
    "    n = len(x)\n",
    "    x_bar = np.mean(x)\n",
    "    z = np.sqrt(n) * (x_bar - mu)/sigma\n",
    "    return stats.norm.cdf(z)"
   ]
  },
  {
   "cell_type": "markdown",
   "id": "ba65a7eb",
   "metadata": {},
   "source": [
    "## 📊 Case Study: Smaller Mean, Same Sigma (Left-sided Test)"
   ]
  },
  {
   "cell_type": "code",
   "execution_count": 3,
   "id": "4c1ca556",
   "metadata": {},
   "outputs": [
    {
     "data": {
      "image/png": "[encoded data removed]",
      "text/plain": [
       "<Figure size 432x288 with 1 Axes>"
      ]
     },
     "metadata": {
      "needs_background": "light"
     },
     "output_type": "display_data"
    }
   ],
   "source": [
    "n, mu, sigma = 20, 1, np.pi\n",
    "n_reps = 100000\n",
    "xx = rng.normal(0, sigma, (n_reps, n))\n",
    "pvals = np.apply_along_axis(pval_left, 1, xx, mu=mu, sigma=sigma)\n",
    "sns.histplot(x=pvals, stat='density')\n",
    "plt.title('P-values | Mean < μ (Left-sided test)')\n",
    "plt.show()"
   ]
  },
  {
   "cell_type": "markdown",
   "id": "43ebb115",
   "metadata": {},
   "source": [
    "## 📊 Case Study: Smaller Sigma, Same Mean"
   ]
  },
  {
   "cell_type": "code",
   "execution_count": 4,
   "id": "6f2b2e86",
   "metadata": {},
   "outputs": [
    {
     "data": {
      "image/png": "[encoded data removed]",
      "text/plain": [
       "<Figure size 432x288 with 1 Axes>"
      ]
     },
     "metadata": {
      "needs_background": "light"
     },
     "output_type": "display_data"
    },
    {
     "name": "stdout",
     "output_type": "stream",
     "text": [
      "Share of p-values ≥ 0.95: 0.0\n"
     ]
    }
   ],
   "source": [
    "xx = rng.normal(1, 0.1, (n_reps, n))\n",
    "pvals = np.apply_along_axis(pval_left, 1, xx, mu=mu, sigma=sigma)\n",
    "sns.histplot(x=pvals, stat='density')\n",
    "plt.title('P-values | Same mean, smaller σ')\n",
    "plt.show()\n",
    "print('Share of p-values ≥ 0.95:', np.mean(pvals >= 0.95))"
   ]
  },
  {
   "cell_type": "markdown",
   "id": "bb414d47",
   "metadata": {},
   "source": [
    "## 📊 Case Study: Large Mean and Sigma (Right-sided Test)"
   ]
  },
  {
   "cell_type": "code",
   "execution_count": 5,
   "id": "345d482d",
   "metadata": {},
   "outputs": [
    {
     "data": {
      "image/png": "[encoded data removed]",
      "text/plain": [
       "<Figure size 432x288 with 1 Axes>"
      ]
     },
     "metadata": {
      "needs_background": "light"
     },
     "output_type": "display_data"
    },
    {
     "name": "stdout",
     "output_type": "stream",
     "text": [
      "P(p ≤ 0.05): 0.11446\n",
      "P(p ≤ 0.01): 0.07844\n"
     ]
    }
   ],
   "source": [
    "xx = rng.normal(2.5, np.pi**2, (n_reps, n))\n",
    "pvals = np.apply_along_axis(pval_right, 1, xx, mu=mu, sigma=sigma)\n",
    "sns.histplot(x=pvals, stat='density')\n",
    "plt.title('P-values | Mean > μ with large σ')\n",
    "plt.show()\n",
    "print('P(p ≤ 0.05):', np.mean(pvals <= 0.05))\n",
    "print('P(p ≤ 0.01):', np.mean(pvals <= 0.01))"
   ]
  },
  {
   "cell_type": "markdown",
   "id": "1785a9bf",
   "metadata": {},
   "source": [
    "## 🧪 Alternative Distribution: Log-normal"
   ]
  },
  {
   "cell_type": "code",
   "execution_count": 6,
   "id": "3fd31d1b",
   "metadata": {},
   "outputs": [
    {
     "data": {
      "image/png": "[encoded data removed]",
      "text/plain": [
       "<Figure size 432x288 with 1 Axes>"
      ]
     },
     "metadata": {
      "needs_background": "light"
     },
     "output_type": "display_data"
    },
    {
     "name": "stdout",
     "output_type": "stream",
     "text": [
      "P(p ≤ 0.05): 0.0\n"
     ]
    }
   ],
   "source": [
    "def f_lnorm(size):\n",
    "    return rng.lognormal(-2, 2, size)\n",
    "\n",
    "xx = f_lnorm((n_reps, n))\n",
    "pvals = np.apply_along_axis(pval_right, 1, xx, mu=mu, sigma=sigma)\n",
    "sns.histplot(x=pvals, stat='density')\n",
    "plt.title('P-values | Log-normal Distribution')\n",
    "plt.show()\n",
    "print('P(p ≤ 0.05):', np.mean(pvals <= 0.05))"
   ]
  },
  {
   "cell_type": "markdown",
   "id": "b51d77e2",
   "metadata": {},
   "source": [
    "## 🧪 Alternative Distribution: Gumbel"
   ]
  },
  {
   "cell_type": "code",
   "execution_count": 7,
   "id": "9f27c036",
   "metadata": {},
   "outputs": [
    {
     "data": {
      "image/png": "[encoded data removed]",
      "text/plain": [
       "<Figure size 432x288 with 1 Axes>"
      ]
     },
     "metadata": {
      "needs_background": "light"
     },
     "output_type": "display_data"
    },
    {
     "name": "stdout",
     "output_type": "stream",
     "text": [
      "P(p ≤ 0.05): 0.0\n"
     ]
    }
   ],
   "source": [
    "beta = np.sqrt(0.2)\n",
    "mu_g = 1 - np.euler_gamma * beta\n",
    "def f_gumbel(size):\n",
    "    return rng.gumbel(mu_g, beta, size)\n",
    "\n",
    "xx = f_gumbel((n_reps, n))\n",
    "pvals = np.apply_along_axis(pval_right, 1, xx, mu=mu, sigma=sigma)\n",
    "sns.histplot(x=pvals, stat='density')\n",
    "plt.title('P-values | Gumbel Distribution')\n",
    "plt.show()\n",
    "print('P(p ≤ 0.05):', np.mean(pvals <= 0.05))"
   ]
  },
  {
   "cell_type": "markdown",
   "id": "0f5af13f",
   "metadata": {},
   "source": [
    "## ✅ Summary:\n",
    "- P-values change depending on whether you're testing left-sided, right-sided, or two-sided hypotheses.\n",
    "- The distribution of p-values tells you **how often you'd reject H₀** under different scenarios.\n",
    "- Sampling from the wrong distribution (e.g. Log-normal) can make classical tests misleading.\n",
    "- Simulation is your best friend when formulas fail or assumptions are shaky.\n"
   ]
  },
  {
   "cell_type": "markdown",
   "id": "2a86d493",
   "metadata": {},
   "source": [
    "## 🌍 Real-World Applications\n"
   ]
  },
  {
   "cell_type": "markdown",
   "id": "1e459c57",
   "metadata": {},
   "source": [
    "| Field         | Question                                              | Test Used   |\n",
    "| ------------- | ----------------------------------------------------- | ----------- |\n",
    "| Healthcare    | Is the treatment reducing symptoms more than placebo? | Right-sided |\n",
    "| Manufacturing | Are part dimensions deviating from specification?     | Two-sided   |\n",
    "| Marketing     | Is Ad B performing better than Ad A?                  | Right-sided |\n",
    "| Finance       | Are returns statistically better than benchmark?      | Right-sided |\n",
    "| Public Policy | Is a program reducing crime below the historic mean?  | Left-sided  |\n"
   ]
  }
 ],
 "metadata": {
  "kernelspec": {
   "display_name": "Python 3 (ipykernel)",
   "language": "python",
   "name": "python3"
  },
  "language_info": {
   "codemirror_mode": {
    "name": "ipython",
    "version": 3
   },
   "file_extension": ".py",
   "mimetype": "text/x-python",
   "name": "python",
   "nbconvert_exporter": "python",
   "pygments_lexer": "ipython3",
   "version": "3.9.7"
  }
 },
 "nbformat": 4,
 "nbformat_minor": 5
}
