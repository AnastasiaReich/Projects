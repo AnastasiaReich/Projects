{
 "cells": [
  {
   "cell_type": "markdown",
   "id": "3b85245b",
   "metadata": {},
   "source": [
    "# 🎲 Dice Simulation Lab\n",
    "This notebook explores the behavior of multiple dice throws under various aggregation functions — minimum, maximum, sum, and product.\n",
    "\n",
    "We simulate:\n",
    "- Distributions of min/max values\n",
    "- Sum distributions and expected values\n",
    "- Probability of products exceeding a threshold\n",
    "\n",
    "The goal is to understand probability convergence through simulation using NumPy and visualize results with Seaborn.\n",
    "\n",
    "🧠 Real-world tie-ins include:\n",
    "- Forecasting totals (marketing, finance)\n",
    "- Understanding worst/best-case scenarios (risk, quality control)\n",
    "- Compound effects (supply chain, interest, reliability)\n",
    "- Building core probabilistic intuition"
   ]
  },
  {
   "cell_type": "markdown",
   "id": "4a8e6095",
   "metadata": {},
   "source": [
    "## 🔢Min/Max Simulation\n",
    "### Academic Concept:\n",
    "### You simulate the maximum or minimum of a set of random variables.\n",
    "\n",
    "#### - Real-World Analogs:\n",
    "#### - Quality control: What’s the probability that the worst-case (minimum quality) part in a batch of 5 fails?\n",
    "\n",
    "#### - Risk management: What’s the chance of a maximum delay among 5 suppliers? Or the lowest-performing salesperson in a team?\n",
    "\n",
    "#### - Stock portfolios: What’s the chance that your best asset performs above X?\n",
    "\n",
    "#### - Business Value:\n",
    "#### - Understanding edge cases, like “how often do we hit a minimum threshold?” or “what does the upper tail look like?”\n",
    "\n",
    "#### - Useful in decision trees or scenario planning."
   ]
  },
  {
   "cell_type": "code",
   "execution_count": 15,
   "id": "347026cf",
   "metadata": {},
   "outputs": [],
   "source": [
    "import numpy as np\n",
    "import seaborn as sns\n",
    "import matplotlib.pyplot as plt\n",
    "import pandas as pd\n",
    "\n",
    "rng = np.random.default_rng(seed=313)"
   ]
  },
  {
   "cell_type": "code",
   "execution_count": 16,
   "id": "18cb5a04",
   "metadata": {},
   "outputs": [],
   "source": [
    "def minimum_throw(throws, rng, n_reps=10**5):\n",
    "    sims = rng.integers(1, 7, size=(n_reps, throws))\n",
    "    results = np.min(sims, axis=1)\n",
    "    uniques, counts = np.unique(results, return_counts=True)\n",
    "    return {'face': uniques, 'probability': counts / n_reps}"
   ]
  },
  {
   "cell_type": "code",
   "execution_count": 17,
   "id": "7ba876ac",
   "metadata": {},
   "outputs": [],
   "source": [
    "def maximum_throw(throws, rng, n_reps=10**5):\n",
    "    results = rng.integers(1, 7, size=(n_reps, throws))\n",
    "    maximums = np.max(results, axis=1)\n",
    "    uniques, counts = np.unique(maximums, return_counts=True)\n",
    "    return {'face': uniques, 'probability': counts / n_reps}"
   ]
  },
  {
   "cell_type": "code",
   "execution_count": 18,
   "id": "064cfafc",
   "metadata": {},
   "outputs": [
    {
     "data": {
      "image/png": "[encoded data removed]",
      "text/plain": [
       "<Figure size 864x288 with 2 Axes>"
      ]
     },
     "metadata": {
      "needs_background": "light"
     },
     "output_type": "display_data"
    }
   ],
   "source": [
    "# Task 1: Plot min/max throws\n",
    "minimal_throws = minimum_throw(5, rng)\n",
    "maximal_throws = maximum_throw(5, rng)\n",
    "\n",
    "fig, ax = plt.subplots(1, 2, figsize=(12, 4))\n",
    "sns.barplot(x='face', y='probability', data=minimal_throws, ax=ax[0])\n",
    "ax[0].set_title('Minimum Throw (5 dice)')\n",
    "sns.barplot(x='face', y='probability', data=maximal_throws, ax=ax[1])\n",
    "ax[1].set_title('Maximum Throw (5 dice)')\n",
    "plt.tight_layout()\n",
    "plt.show()"
   ]
  },
  {
   "cell_type": "markdown",
   "id": "c86fbd1b",
   "metadata": {},
   "source": [
    "## ➕Sum Simulation\n",
    "### Academic Concept:\n",
    "### Distribution of the sum of multiple independent variables.\n",
    "\n",
    "#### Real-World Analogs:\n",
    "#### -Total revenue from a set of clients\n",
    "\n",
    "#### -Sum of monthly purchases from multiple channels\n",
    "\n",
    "#### -Total cost over several expense categories\n",
    "\n",
    "#### -CLV (Customer Lifetime Value) estimation — modeled as a sum of future transactions\n",
    "\n",
    "#### Business Value:\n",
    "#### - Predict aggregate outcomes from components (clients, channels, products)\n",
    "\n",
    "#### - Groundwork for Monte Carlo simulations in budgeting, forecasting, and revenue models\n",
    "\n",
    "#### - Basis of Central Limit Theorem (CLT) — critical for confidence intervals and forecasting\n",
    "\n"
   ]
  },
  {
   "cell_type": "code",
   "execution_count": 19,
   "id": "a0b2b9ec",
   "metadata": {},
   "outputs": [],
   "source": [
    "def sum_throw(throws, rng, n_reps=10**5):\n",
    "    results = rng.integers(1, 7, size=(n_reps, throws))\n",
    "    sums = np.sum(results, axis=1)\n",
    "    uniques, counts = np.unique(sums, return_counts=True)\n",
    "    return {'sum': uniques, 'probability': counts / n_reps}"
   ]
  },
  {
   "cell_type": "code",
   "execution_count": 20,
   "id": "729e10d9",
   "metadata": {},
   "outputs": [
    {
     "data": {
      "image/png": "[encoded data removed]",
      "text/plain": [
       "<Figure size 432x288 with 1 Axes>"
      ]
     },
     "metadata": {
      "needs_background": "light"
     },
     "output_type": "display_data"
    }
   ],
   "source": [
    "# Task 2: Sum distribution\n",
    "simulated_throws = sum_throw(7, rng)\n",
    "sns.barplot(x='sum', y='probability', data=simulated_throws)\n",
    "plt.title('Distribution of Sum of 7 Dice')\n",
    "plt.xlabel('Sum')\n",
    "plt.ylabel('Probability')\n",
    "plt.show()"
   ]
  },
  {
   "cell_type": "markdown",
   "id": "d2337ea0",
   "metadata": {},
   "source": [
    "### 📈 Expected Value\n",
    "### Academic Concept:\n",
    "#### You calculate the weighted average outcome, or expectation.\n",
    "\n",
    "#### Real-World Analogs:\n",
    "#### - Marketing ROI: What’s the expected value of a customer segment's return?\n",
    "\n",
    "#### - Product decisions: If launching product A yields +$10k with 60% chance and -$4k with 40%, what’s the expected return?\n",
    "\n",
    "#### - Insurance/Pricing: Pricing premiums based on expected payouts.\n",
    "\n",
    "####  Business Value:\n",
    "#### - Drives rational decision-making under uncertainty\n",
    "\n",
    "#### -  Backbone of expected loss models, predictive analytics, risk-neutral valuation\n",
    "\n",
    "#### - Supports cost-benefit decisions in everything from ad campaigns to fraud detection"
   ]
  },
  {
   "cell_type": "code",
   "execution_count": 21,
   "id": "e0430948",
   "metadata": {},
   "outputs": [],
   "source": [
    "def sum_expected(throws, rng, n_reps=10**5):\n",
    "    simulated_throws = sum_throw(throws, rng)\n",
    "    sums = simulated_throws['sum']\n",
    "    probabilities = simulated_throws['probability']\n",
    "    return np.sum(sums * probabilities)"
   ]
  },
  {
   "cell_type": "code",
   "execution_count": 22,
   "id": "98a751c1",
   "metadata": {},
   "outputs": [
    {
     "data": {
      "image/png": "[encoded data removed]",
      "text/plain": [
       "<Figure size 432x288 with 1 Axes>"
      ]
     },
     "metadata": {
      "needs_background": "light"
     },
     "output_type": "display_data"
    }
   ],
   "source": [
    "# Task 3: Expected value across throws\n",
    "xs = range(1, 17)\n",
    "ys = [sum_expected(throws, rng) for throws in xs]\n",
    "sns.scatterplot(x=xs, y=ys)\n",
    "plt.title('Expected Sum vs Number of Dice')\n",
    "plt.xlabel('Number of Dice')\n",
    "plt.ylabel('Expected Sum')\n",
    "plt.show()"
   ]
  },
  {
   "cell_type": "markdown",
   "id": "a101c5ed",
   "metadata": {},
   "source": [
    "### ✖️ Product Simulation\n",
    "#### Academic Concept:\n",
    "#### You simulate the product of multiple independent variables.\n",
    "\n",
    "#### Real-World Analogs:\n",
    "\n",
    "#### - Compound interest models: Interest compounds via multiplication\n",
    "\n",
    "#### - Supply chain reliability: Overall success is the product of individual success probabilities\n",
    "\n",
    "#### - Epidemiology: Basic reproduction number (R₀) can be modeled as the product of sub-factors (transmission × contacts × duration)\n",
    "\n",
    "#### - Manufacturing Yield: Final yield = step1_yield × step2_yield × … × stepN_yield\n",
    "\n",
    "#### Business Value:\n",
    "#### - Models multiplicative risk\n",
    "\n",
    "#### - Helps in supply chain, manufacturing, financial modeling\n",
    "\n",
    "#### - Can identify where a single bad link breaks the whole chain"
   ]
  },
  {
   "cell_type": "code",
   "execution_count": 23,
   "id": "739d17a7",
   "metadata": {},
   "outputs": [],
   "source": [
    "def product_throw(throws, rng, n_reps=10**5):\n",
    "    sims = rng.integers(1, 7, size=(n_reps, throws))\n",
    "    results = np.prod(sims, axis=1)\n",
    "    uniques, counts = np.unique(results, return_counts=True)\n",
    "    return {'product': uniques, 'probability': counts / n_reps}"
   ]
  },
  {
   "cell_type": "code",
   "execution_count": 24,
   "id": "562736bd",
   "metadata": {},
   "outputs": [
    {
     "name": "stdout",
     "output_type": "stream",
     "text": [
      "Probability that product of 5 dice exceeds 3888: 0.00657\n"
     ]
    }
   ],
   "source": [
    "# Task 4: Product analysis\n",
    "simulated_throws = product_throw(5, rng)\n",
    "products = simulated_throws['product']\n",
    "probabilities = simulated_throws['probability']\n",
    "prob = sum([p for i, p in enumerate(probabilities) if products[i] > 3888])\n",
    "print(f'Probability that product of 5 dice exceeds 3888: {prob:.5f}')"
   ]
  },
  {
   "cell_type": "code",
   "execution_count": 25,
   "id": "22e7ec8e",
   "metadata": {},
   "outputs": [],
   "source": [
    "def throw_dice(throws, func, rng, n_reps=10**5):\n",
    "    simulation = rng.integers(1, 7, size=(n_reps, throws))\n",
    "    result = np.apply_along_axis(func1d=func, axis=1, arr=simulation)\n",
    "    uniques, counts = np.unique(result, return_counts=True)\n",
    "    return {'result': uniques, 'probability': counts / n_reps}"
   ]
  },
  {
   "cell_type": "code",
   "execution_count": 27,
   "id": "d35c844a",
   "metadata": {},
   "outputs": [
    {
     "name": "stdout",
     "output_type": "stream",
     "text": [
      "{'result': array([1, 2, 3, 4, 5, 6], dtype=int64), 'probability': array([1.4000e-04, 3.7900e-03, 2.7400e-02, 1.0028e-01, 2.7026e-01,\n",
      "       5.9813e-01])}\n"
     ]
    }
   ],
   "source": [
    "output = throw_dice(5, np.max, rng)\n",
    "print(output)"
   ]
  },
  {
   "cell_type": "code",
   "execution_count": 28,
   "id": "4fe29ec9",
   "metadata": {},
   "outputs": [
    {
     "data": {
      "image/png": "[encoded data removed]",
      "text/plain": [
       "<Figure size 432x288 with 1 Axes>"
      ]
     },
     "metadata": {
      "needs_background": "light"
     },
     "output_type": "display_data"
    }
   ],
   "source": [
    "df = pd.DataFrame(throw_dice(5, np.max, rng))\n",
    "sns.barplot(x=\"result\", y=\"probability\", data=df)\n",
    "plt.title(\"Distribution of Maximum Face in 5 Dice Throws\")\n",
    "plt.show()"
   ]
  }
 ],
 "metadata": {
  "kernelspec": {
   "display_name": "Python 3 (ipykernel)",
   "language": "python",
   "name": "python3"
  },
  "language_info": {
   "codemirror_mode": {
    "name": "ipython",
    "version": 3
   },
   "file_extension": ".py",
   "mimetype": "text/x-python",
   "name": "python",
   "nbconvert_exporter": "python",
   "pygments_lexer": "ipython3",
   "version": "3.9.7"
  }
 },
 "nbformat": 4,
 "nbformat_minor": 5
}
