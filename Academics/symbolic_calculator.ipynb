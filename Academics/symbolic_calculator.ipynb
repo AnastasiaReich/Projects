{
 "cells": [
  {
   "cell_type": "markdown",
   "id": "9c503894",
   "metadata": {},
   "source": [
    "# 🧮 Symbolic Math & Matrix Operations Calculator\n",
    "This notebook is a symbolic math utility that lets you:\n",
    "- Perform matrix operations (inverse, determinant, multiplication)\n",
    "- Symbolically derive and integrate functions\n",
    "- Solve linear systems symbolically or numerically\n",
    "\n",
    "It uses `sympy` for symbolic math and `numpy` for numerical matrix operations."
   ]
  },
  {
   "cell_type": "code",
   "execution_count": 1,
   "id": "a9a00501",
   "metadata": {},
   "outputs": [],
   "source": [
    "import sympy as sp\n",
    "import numpy as np\n",
    "sp.init_printing()  # pretty printing for sympy"
   ]
  },
  {
   "cell_type": "markdown",
   "id": "43666f9e",
   "metadata": {},
   "source": [
    "## 🧱 Matrix Operations\n",
    "You can define a matrix using NumPy or SymPy and compute its:\n",
    "- Inverse\n",
    "- Determinant\n",
    "- Transpose\n",
    "- Multiplication with another matrix"
   ]
  },
  {
   "cell_type": "code",
   "execution_count": 9,
   "id": "bbe19c58",
   "metadata": {},
   "outputs": [
    {
     "name": "stdout",
     "output_type": "stream",
     "text": [
      "A =\n",
      "⎡1  2⎤\n",
      "⎢    ⎥\n",
      "⎣3  4⎦\n",
      "B =\n",
      "⎡5  6⎤\n",
      "⎢    ⎥\n",
      "⎣7  8⎦\n"
     ]
    }
   ],
   "source": [
    "# Define matrices\n",
    "A = sp.Matrix([[1, 2], [3, 4]])\n",
    "B = sp.Matrix([[5, 6], [7, 8]])\n",
    "\n",
    "\n",
    "print(\"A =\")\n",
    "sp.pprint(A)\n",
    "\n",
    "\n",
    "print(\"B =\")\n",
    "sp.pprint(B)"
   ]
  },
  {
   "cell_type": "code",
   "execution_count": 13,
   "id": "359afdbf",
   "metadata": {},
   "outputs": [
    {
     "name": "stdout",
     "output_type": "stream",
     "text": [
      "Inverse of A:\n",
      "⎡-2    1  ⎤\n",
      "⎢         ⎥\n",
      "⎣3/2  -1/2⎦\n"
     ]
    }
   ],
   "source": [
    "# Inverse of A\n",
    "A_inv = A.inv()\n",
    "\n",
    "print(\"Inverse of A:\")\n",
    "sp.pprint(A.inv())\n"
   ]
  },
  {
   "cell_type": "code",
   "execution_count": 16,
   "id": "f32f869f",
   "metadata": {},
   "outputs": [
    {
     "name": "stdout",
     "output_type": "stream",
     "text": [
      "Determinant of A:\n",
      "-2\n",
      "\n",
      "Transpose of A:\n",
      "⎡1  3⎤\n",
      "⎢    ⎥\n",
      "⎣2  4⎦\n"
     ]
    }
   ],
   "source": [
    "# Determinant and Transpose\n",
    "det_A = A.det()\n",
    "transpose_A = A.T\n",
    "\n",
    "print(\"Determinant of A:\")\n",
    "sp.pprint(det_A)\n",
    "\n",
    "print(\"\\nTranspose of A:\")\n",
    "sp.pprint(transpose_A)\n"
   ]
  },
  {
   "cell_type": "code",
   "execution_count": 17,
   "id": "6173070a",
   "metadata": {},
   "outputs": [
    {
     "name": "stdout",
     "output_type": "stream",
     "text": [
      "Matrix multiplication A * B:\n",
      "⎡19  22⎤\n",
      "⎢      ⎥\n",
      "⎣43  50⎦\n"
     ]
    }
   ],
   "source": [
    "# Matrix Multiplication\n",
    "AB = A * B\n",
    "print(\"Matrix multiplication A * B:\")\n",
    "sp.pprint(AB)\n"
   ]
  },
  {
   "cell_type": "markdown",
   "id": "6440f0b1",
   "metadata": {},
   "source": [
    "## 🔁 Derivatives\n",
    "Symbolic differentiation using `sympy.diff`."
   ]
  },
  {
   "cell_type": "code",
   "execution_count": 6,
   "id": "77c27c2c",
   "metadata": {},
   "outputs": [
    {
     "data": {
      "image/png": "[encoded data removed]",
      "text/latex": [
       "$\\displaystyle f{\\left(x \\right)} = \\sin{\\left(x^{2} \\right)}$"
      ],
      "text/plain": [
       "          ⎛ 2⎞\n",
       "f(x) = sin⎝x ⎠"
      ]
     },
     "metadata": {},
     "output_type": "display_data"
    },
    {
     "data": {
      "image/png": "[encoded data removed]",
      "text/latex": [
       "$\\displaystyle \\frac{d}{d x} \\sin{\\left(x^{2} \\right)} = 2 x \\cos{\\left(x^{2} \\right)}$"
      ],
      "text/plain": [
       "d ⎛   ⎛ 2⎞⎞          ⎛ 2⎞\n",
       "──⎝sin⎝x ⎠⎠ = 2⋅x⋅cos⎝x ⎠\n",
       "dx                       "
      ]
     },
     "metadata": {},
     "output_type": "display_data"
    }
   ],
   "source": [
    "x = sp.symbols('x')\n",
    "f = sp.sin(x**2)\n",
    "f_derivative = sp.diff(f, x)\n",
    "display(sp.Eq(sp.Function('f')(x), f))\n",
    "display(sp.Eq(sp.Derivative(f, x), f_derivative))"
   ]
  },
  {
   "cell_type": "markdown",
   "id": "aaf5f372",
   "metadata": {},
   "source": [
    "## ∫ Integration\n",
    "Symbolic integration using `sympy.integrate`."
   ]
  },
  {
   "cell_type": "code",
   "execution_count": 7,
   "id": "07d8e044",
   "metadata": {},
   "outputs": [
    {
     "data": {
      "image/png": "[encoded data removed]",
      "text/latex": [
       "$\\displaystyle \\int \\sin{\\left(x^{2} \\right)}\\, dx = \\frac{3 \\sqrt{2} \\sqrt{\\pi} S\\left(\\frac{\\sqrt{2} x}{\\sqrt{\\pi}}\\right) \\Gamma\\left(\\frac{3}{4}\\right)}{8 \\Gamma\\left(\\frac{7}{4}\\right)}$"
      ],
      "text/plain": [
       "                        ⎛√2⋅x⎞       \n",
       "⌠              3⋅√2⋅√π⋅S⎜────⎟⋅Γ(3/4)\n",
       "⎮    ⎛ 2⎞               ⎝ √π ⎠       \n",
       "⎮ sin⎝x ⎠ dx = ──────────────────────\n",
       "⌡                     8⋅Γ(7/4)       "
      ]
     },
     "metadata": {},
     "output_type": "display_data"
    }
   ],
   "source": [
    "f_integral = sp.integrate(f, x)\n",
    "display(sp.Eq(sp.Integral(f, x), f_integral))"
   ]
  },
  {
   "cell_type": "markdown",
   "id": "86d68088",
   "metadata": {},
   "source": [
    "## 🧮 Solving Linear Systems\n",
    "Solve symbolic systems of equations using `sympy.solve`."
   ]
  },
  {
   "cell_type": "code",
   "execution_count": 8,
   "id": "f5883e37",
   "metadata": {},
   "outputs": [
    {
     "data": {
      "image/png": "[encoded data removed]",
      "text/latex": [
       "$\\displaystyle 2 x + y = 1$"
      ],
      "text/plain": [
       "2⋅x + y = 1"
      ]
     },
     "metadata": {},
     "output_type": "display_data"
    },
    {
     "data": {
      "image/png": "[encoded data removed]",
      "text/latex": [
       "$\\displaystyle x - y = 3$"
      ],
      "text/plain": [
       "x - y = 3"
      ]
     },
     "metadata": {},
     "output_type": "display_data"
    },
    {
     "data": {
      "image/png": "[encoded data removed]",
      "text/latex": [
       "$\\displaystyle \\left\\{ x : \\frac{4}{3}, \\  y : - \\frac{5}{3}\\right\\}$"
      ],
      "text/plain": [
       "{x: 4/3, y: -5/3}"
      ]
     },
     "execution_count": 8,
     "metadata": {},
     "output_type": "execute_result"
    }
   ],
   "source": [
    "x, y = sp.symbols('x y')\n",
    "eq1 = sp.Eq(2*x + y, 1)\n",
    "eq2 = sp.Eq(x - y, 3)\n",
    "\n",
    "solution = sp.solve((eq1, eq2), (x, y))\n",
    "display(eq1)\n",
    "display(eq2)\n",
    "solution"
   ]
  },
  {
   "cell_type": "markdown",
   "id": "bbc71fd7",
   "metadata": {},
   "source": [
    " Use this notebook as a calculator and reference while solving math-related tasks in projects or studies."
   ]
  }
 ],
 "metadata": {
  "kernelspec": {
   "display_name": "Python 3 (ipykernel)",
   "language": "python",
   "name": "python3"
  },
  "language_info": {
   "codemirror_mode": {
    "name": "ipython",
    "version": 3
   },
   "file_extension": ".py",
   "mimetype": "text/x-python",
   "name": "python",
   "nbconvert_exporter": "python",
   "pygments_lexer": "ipython3",
   "version": "3.9.7"
  }
 },
 "nbformat": 4,
 "nbformat_minor": 5
}
