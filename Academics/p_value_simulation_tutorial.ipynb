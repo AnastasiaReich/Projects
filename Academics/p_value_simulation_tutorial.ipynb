{
 "cells": [
  {
   "cell_type": "markdown",
   "id": "043e5446",
   "metadata": {},
   "source": [
    "# 🧪 Mini P-Value Tutorial with Simulation\n",
    "This notebook is a dive into **p-values**, using simulations and intuitive visuals to demystify the concept.\n",
    "I'll build up from scratch, using a practical problem: **How do we decide if a set of numbers could have come from a Uniform[0,1] distribution?**\n",
    "\n",
    "I will cover:\n",
    "- What a p-value really means\n",
    "- How simulation helps estimate p-values\n",
    "- How to apply this logic beyond uniform tests (to normal, beta, etc.)"
   ]
  },
  {
   "cell_type": "markdown",
   "id": "10a7eb21",
   "metadata": {},
   "source": [
    " 🧪**But first, Hypothesis Testing — A Quick Recap**\n",
    "\n",
    "🎯 Set up two competing ideas\n",
    "\n",
    "**Null hypothesis (H₀):\n",
    "The “default” assumption — nothing interesting is happening.**\n",
    "\n",
    "Example: The numbers come from a uniform distribution.\n",
    "\n",
    "**Alternative hypothesis (H₁):**\n",
    "    \n",
    "The thing you’re testing for — something is different.\n",
    "\n",
    "Example: The numbers are not uniformly distributed.\n",
    "\n",
    "**?** Ask — how extreme is your result under H₀?\n",
    "This is where the **p-value** comes in. It helps you decide whether your observed result is “normal” or “suspicious” under the null."
   ]
  },
  {
   "cell_type": "markdown",
   "id": "d32b8c05",
   "metadata": {},
   "source": [
    "## 🎯So, What is a P-value, Really?\n",
    "\n",
    "A p-value is a way of asking:\n",
    "\n",
    "“If my null hypothesis were true, how surprising would this result be?”\n",
    "\n",
    "**Important:** A p-value is NOT:\n",
    "- The probability that the null hypothesis is true\n",
    "- A proof of non-randomness\n",
    "\n",
    "It’s simply a way to measure how *surprising* your observation is under a specific assumption. \n",
    "\n",
    "A small p-value (like 0.01 or 0.03) means:\n",
    "“This result is rare if the null is true.” → → Maybe the null is wrong.\n",
    "\n",
    "A large p-value (like 0.6 or 0.8) means:\n",
    "“This result is totally normal if the null is true.” → → No reason to doubt the null."
   ]
  },
  {
   "cell_type": "code",
   "execution_count": 4,
   "id": "7f478039",
   "metadata": {},
   "outputs": [],
   "source": [
    "import numpy as np\n",
    "import seaborn as sns\n",
    "import matplotlib.pyplot as plt\n",
    "from scipy import stats\n",
    "\n",
    "rng = np.random.default_rng(seed=42)"
   ]
  },
  {
   "cell_type": "markdown",
   "id": "feb92c8f",
   "metadata": {},
   "source": [
    "## 🎲 Step 1: Our Toy Question — Is this data Uniformly Distributed?\n",
    "Let’s simulate a small dataset and test whether it could plausibly come from a Uniform[0,1] distribution."
   ]
  },
  {
   "cell_type": "code",
   "execution_count": 5,
   "id": "fa374402",
   "metadata": {},
   "outputs": [
    {
     "data": {
      "image/png": "[encoded data removed]",
      "text/plain": [
       "<Figure size 432x288 with 1 Axes>"
      ]
     },
     "metadata": {
      "needs_background": "light"
     },
     "output_type": "display_data"
    }
   ],
   "source": [
    "# Observed dataset\n",
    "x = rng.beta(0.5, 0.5, size=100)  # deliberately not uniform\n",
    "sns.histplot(x=x, stat='density')\n",
    "plt.title('Observed Data Histogram')\n",
    "plt.show()"
   ]
  },
  {
   "cell_type": "markdown",
   "id": "c5327f5d",
   "metadata": {},
   "source": [
    "## 🧪 Step 2: Test Statistic = Mean\n",
    "We simulate many datasets from Uniform[0,1] and calculate their means.\n",
    "Then we compare our observed mean to this simulated distribution."
   ]
  },
  {
   "cell_type": "code",
   "execution_count": 6,
   "id": "d4957ce2",
   "metadata": {},
   "outputs": [
    {
     "data": {
      "image/png": "[encoded data removed]",
      "text/plain": [
       "<Figure size 432x288 with 1 Axes>"
      ]
     },
     "metadata": {
      "needs_background": "light"
     },
     "output_type": "display_data"
    },
    {
     "name": "stdout",
     "output_type": "stream",
     "text": [
      "P-value (mean ≥ observed): 0.9534\n"
     ]
    }
   ],
   "source": [
    "n_reps = 100000\n",
    "arr = rng.random((n_reps, len(x)))\n",
    "sim_means = np.mean(arr, axis=1)\n",
    "\n",
    "obs_mean = np.mean(x)\n",
    "p_val_mean = np.mean(sim_means >= obs_mean)\n",
    "\n",
    "sns.histplot(sim_means, stat='density')\n",
    "plt.axvline(obs_mean, color='red', linestyle='--', label=f'Observed Mean = {obs_mean:.3f}')\n",
    "plt.title('Simulated Mean Distribution Under Uniform Null')\n",
    "plt.legend()\n",
    "plt.show()\n",
    "print(f'P-value (mean ≥ observed): {p_val_mean:.4f}')"
   ]
  },
  {
   "cell_type": "markdown",
   "id": "6f53039c",
   "metadata": {},
   "source": [
    "## 🛠 Step 3: Generalize It — `test_rng()` Function\n",
    "We now create a reusable function that can test **any test statistic** — mean, variance, skewness, etc."
   ]
  },
  {
   "cell_type": "code",
   "execution_count": 7,
   "id": "4f4817cd",
   "metadata": {},
   "outputs": [],
   "source": [
    "def test_rng(x, func, rng_sampler, n_reps=100000):\n",
    "    simulated = rng_sampler((n_reps, len(x)))\n",
    "    obs_stat = func(x)\n",
    "    sim_stats = np.apply_along_axis(func, axis=1, arr=simulated)\n",
    "    return np.mean(sim_stats >= obs_stat), obs_stat"
   ]
  },
  {
   "cell_type": "markdown",
   "id": "ec91373d",
   "metadata": {},
   "source": [
    "## 🔍 Step 4: Try Different Test Statistics\n",
    "Let’s evaluate several test statistics and their p-values under the uniform assumption:"
   ]
  },
  {
   "cell_type": "code",
   "execution_count": 8,
   "id": "0c6dd16d",
   "metadata": {},
   "outputs": [
    {
     "name": "stdout",
     "output_type": "stream",
     "text": [
      "mean                      | stat =  0.4513 | p-value = 0.9549\n",
      "variance                  | stat =  0.1359 | p-value = 0.0000\n",
      "max                       | stat =  0.9986 | p-value = 0.1269\n",
      "median                    | stat =  0.4083 | p-value = 0.9682\n",
      "sum(x^3)                  | stat =  28.4447 | p-value = 0.1126\n",
      "sum(exp(-x))              | stat =  67.9812 | p-value = 0.0044\n",
      "median - mean             | stat = -0.0430 | p-value = 0.9376\n",
      "mean(abs(x - median))     | stat =  0.3387 | p-value = 0.0000\n"
     ]
    }
   ],
   "source": [
    "tests = {\n",
    "    'mean': np.mean,\n",
    "    'variance': np.var,\n",
    "    'max': np.max,\n",
    "    'median': np.median,\n",
    "    'sum(x^3)': lambda x: np.sum(x**3),\n",
    "    'sum(exp(-x))': lambda x: np.sum(np.exp(-x)),\n",
    "    'median - mean': lambda x: np.median(x) - np.mean(x),\n",
    "    'mean(abs(x - median))': lambda x: np.mean(np.abs(x - np.median(x)))\n",
    "}\n",
    "\n",
    "for name, func in tests.items():\n",
    "    p, val = test_rng(x, func, rng.random)\n",
    "    print(f'{name:25s} | stat = {val: .4f} | p-value = {p:.4f}')"
   ]
  },
  {
   "cell_type": "markdown",
   "id": "d543f411",
   "metadata": {},
   "source": [
    "## 📈 Step 5: What if the True Distribution is Beta(9,9)?\n",
    "Suppose we *know* our favorite distribution is Beta(9,9) — how does our test change?\n",
    "Let’s simulate and test if our observed data fits *that* distribution."
   ]
  },
  {
   "cell_type": "code",
   "execution_count": 9,
   "id": "2f57dfc3",
   "metadata": {},
   "outputs": [
    {
     "data": {
      "image/png": "[encoded data removed]",
      "text/plain": [
       "<Figure size 432x288 with 1 Axes>"
      ]
     },
     "metadata": {
      "needs_background": "light"
     },
     "output_type": "display_data"
    },
    {
     "name": "stdout",
     "output_type": "stream",
     "text": [
      "Testing Beta(9,9) sample under Uniform: p-value = 1.0000, observed variance = 0.0121\n"
     ]
    }
   ],
   "source": [
    "# Simulate data from beta(9,9)\n",
    "y = rng.beta(9, 9, size=100)\n",
    "sns.histplot(x=y, stat='density')\n",
    "xs = np.linspace(0, 1, 100)\n",
    "plt.plot(xs, stats.beta(9, 9).pdf(xs), color='black')\n",
    "plt.title('Sample from Beta(9,9)')\n",
    "plt.show()\n",
    "\n",
    "p, val = test_rng(y, np.var, lambda size: rng.random(size))\n",
    "print(f'Testing Beta(9,9) sample under Uniform: p-value = {p:.4f}, observed variance = {val:.4f}')"
   ]
  },
  {
   "cell_type": "markdown",
   "id": "9d8ac0d1",
   "metadata": {},
   "source": [
    "## ✅ Summary\n",
    "- A p-value estimates how often you'd observe a test statistic as extreme as your data, under a null hypothesis.\n",
    "- Simulation is a powerful, intuitive way to generate p-values when formulas are too complex or unknown.\n",
    "- `test_rng()` makes this reusable across metrics and distributions.\n",
    "\n",
    "🔬 **Applications**:\n",
    "- A/B testing (mean difference)\n",
    "- Outlier detection (max/min values)\n",
    "- Quality control (variance thresholds)\n",
    "- Scientific experiments (any custom test statistic)\n",
    "\n",
    "## 🧠 Can We Blindly Trust P-values?\n",
    "\n",
    "A **p-value** is not the final word — it’s a check metric.\n",
    "\n",
    "---\n",
    "\n",
    "### ✅ What You *Can* Trust a P-value To Do:\n",
    "- Measure **how rare or extreme** your result is under the null\n",
    "- Help you **flag unusual patterns** in the data\n",
    "- Provide a consistent decision threshold (e.g., p < 0.05)\n",
    "\n",
    "---\n",
    "\n",
    "### ❌ What You *Shouldn’t* Expect from a P-value:\n",
    "- It is **not** the probability that the null hypothesis is true\n",
    "- It does **not** prove that your result is meaningful or important\n",
    "- It is **not** immune to manipulation — p-hacking is real\n",
    "\n",
    "### 💡 Use P-values Wisely:\n",
    "- **Visualize** your data before and after testing\n",
    "- Pair p-values with **effect sizes**, **confidence intervals**, and **domain knowledge**\n",
    "- Don’t worship the 0.05 threshold — interpret it in context\n",
    "\n",
    "> P-values don't give you truth — they give you a signal. It's your job to decide if it's noise or insight.\n",
    "\n",
    "\n"
   ]
  }
 ],
 "metadata": {
  "kernelspec": {
   "display_name": "Python 3 (ipykernel)",
   "language": "python",
   "name": "python3"
  },
  "language_info": {
   "codemirror_mode": {
    "name": "ipython",
    "version": 3
   },
   "file_extension": ".py",
   "mimetype": "text/x-python",
   "name": "python",
   "nbconvert_exporter": "python",
   "pygments_lexer": "ipython3",
   "version": "3.9.7"
  }
 },
 "nbformat": 4,
 "nbformat_minor": 5
}
